{
 "cells": [
  {
   "cell_type": "code",
   "execution_count": 3,
   "id": "7107c926",
   "metadata": {},
   "outputs": [
    {
     "name": "stderr",
     "output_type": "stream",
     "text": [
      "C:\\Users\\aserr\\AppData\\Local\\Temp\\ipykernel_27164\\2310877257.py:10: FutureWarning: YF.download() has changed argument auto_adjust default to True\n",
      "  BBVA_data = yf.download(BBVA_ticker, start=start_date, end=end_date)\n",
      "[*********************100%***********************]  1 of 1 completed\n",
      "C:\\Users\\aserr\\AppData\\Local\\Temp\\ipykernel_27164\\2310877257.py:11: FutureWarning: YF.download() has changed argument auto_adjust default to True\n",
      "  SANTANDER_data = yf.download(BANCO_SANTANDER_ticker, start=start_date, end=end_date)\n",
      "[*********************100%***********************]  1 of 1 completed\n"
     ]
    }
   ],
   "source": [
    "import yfinance as yf\n",
    "import pandas as pd\n",
    "# Definir los símbolos de los índices\n",
    "BBVA_ticker = \"BBVA.MC\" # S&P 500\n",
    "BANCO_SANTANDER_ticker = \"SAN.MC\" # IBEX 35\n",
    "# Definir el rango de fechas\n",
    "start_date = \"2000-01-01\"\n",
    "end_date = \"2024-01-01\"\n",
    "# Descargar los datos históricos desde Yahoo Finance\n",
    "BBVA_data = yf.download(BBVA_ticker, start=start_date, end=end_date)\n",
    "SANTANDER_data = yf.download(BANCO_SANTANDER_ticker, start=start_date, end=end_date)"
   ]
  },
  {
   "cell_type": "code",
   "execution_count": 4,
   "id": "77adc17e",
   "metadata": {},
   "outputs": [
    {
     "name": "stdout",
     "output_type": "stream",
     "text": [
      "S&P 500 Data:\n",
      "Price          Close      High       Low      Open    Volume\n",
      "Ticker       BBVA.MC   BBVA.MC   BBVA.MC   BBVA.MC   BBVA.MC\n",
      "Date                                                        \n",
      "2000-01-03  4.115112  4.155741  4.106406  4.135427   8244257\n",
      "2000-01-04  4.007736  4.088993  3.993226  4.062875   8522096\n",
      "2000-01-05  3.917772  3.990323  3.900359  3.970008  12159826\n",
      "2000-01-06  3.917772  3.917772  3.917772  3.917772         0\n",
      "2000-01-07  3.967106  4.001931  3.926478  4.001931  62261944\n",
      "\n",
      "IBEX 35 Data:\n",
      "Price          Close      High       Low      Open   Volume\n",
      "Ticker        SAN.MC    SAN.MC    SAN.MC    SAN.MC   SAN.MC\n",
      "Date                                                       \n",
      "2000-01-03  2.659118  2.696505  2.628742  2.687158  8797337\n",
      "2000-01-04  2.596029  2.640425  2.572662  2.626405  8811013\n",
      "2000-01-05  2.532940  2.579673  2.511910  2.546960  9333517\n",
      "2000-01-06  2.532940  2.532940  2.532940  2.532940        0\n",
      "2000-01-07  2.645100  2.652110  2.549297  2.551634  9603132\n"
     ]
    }
   ],
   "source": [
    "# Mostrar las primeras filas de cada dataset\n",
    "print(\"S&P 500 Data:\")\n",
    "print(BBVA_data.head())\n",
    "print(\"\\nIBEX 35 Data:\")\n",
    "print(SANTANDER_data.head())\n",
    "# Guardar los datos en CSV (opcional)\n",
    "BBVA_data.to_csv(\"bbva.csv\")\n",
    "SANTANDER_data.to_csv(\"satander.csv\")"
   ]
  }
 ],
 "metadata": {
  "kernelspec": {
   "display_name": "env (3.13.0)",
   "language": "python",
   "name": "python3"
  },
  "language_info": {
   "codemirror_mode": {
    "name": "ipython",
    "version": 3
   },
   "file_extension": ".py",
   "mimetype": "text/x-python",
   "name": "python",
   "nbconvert_exporter": "python",
   "pygments_lexer": "ipython3",
   "version": "3.13.0"
  }
 },
 "nbformat": 4,
 "nbformat_minor": 5
}
